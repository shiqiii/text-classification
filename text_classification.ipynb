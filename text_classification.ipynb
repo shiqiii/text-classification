{
 "cells": [
  {
   "cell_type": "code",
   "execution_count": 1,
   "metadata": {},
   "outputs": [],
   "source": [
    "import pandas as pd \n",
    "import numpy as np\n",
    "from sklearn.feature_extraction.text import TfidfVectorizer\n",
    "from sklearn.linear_model import LogisticRegression\n",
    "from sklearn.linear_model import SGDClassifier\n",
    "import re\n",
    "from matplotlib import pyplot as plt\n",
    "from sklearn.model_selection import GridSearchCV"
   ]
  },
  {
   "cell_type": "code",
   "execution_count": 2,
   "metadata": {},
   "outputs": [],
   "source": [
    "train = pd.read_csv('https://www.dropbox.com/s/ia4tpu47h5f5ptd/train.csv?raw=1')\n",
    "test = pd.read_csv('https://www.dropbox.com/s/7mjx3ulzrf2pde5/test.csv?raw=1')"
   ]
  },
  {
   "cell_type": "markdown",
   "metadata": {},
   "source": [
    "# Data Processing"
   ]
  },
  {
   "cell_type": "markdown",
   "metadata": {},
   "source": [
    "## Data Exploratory"
   ]
  },
  {
   "cell_type": "markdown",
   "metadata": {},
   "source": [
    "**The distribution of genre in training set**"
   ]
  },
  {
   "cell_type": "code",
   "execution_count": 3,
   "metadata": {},
   "outputs": [
    {
     "data": {
      "image/png": "[encoded data removed]",
      "text/plain": [
       "<Figure size 432x288 with 1 Axes>"
      ]
     },
     "metadata": {
      "needs_background": "light"
     },
     "output_type": "display_data"
    }
   ],
   "source": [
    "fig = plt.figure(figsize=(6,4))\n",
    "train.groupby('Genre').Plot.count().plot.bar(ylim=0)\n",
    "plt.title('Genre distribution in training set')\n",
    "plt.show()"
   ]
  },
  {
   "cell_type": "markdown",
   "metadata": {},
   "source": [
    "**The distribution of sentence lengths in training set and test set**"
   ]
  },
  {
   "cell_type": "code",
   "execution_count": 4,
   "metadata": {},
   "outputs": [],
   "source": [
    "from pdtext.tf import word_count"
   ]
  },
  {
   "cell_type": "code",
   "execution_count": 5,
   "metadata": {},
   "outputs": [
    {
     "data": {
      "image/png": "[encoded data removed]",
      "text/plain": [
       "<Figure size 432x288 with 2 Axes>"
      ]
     },
     "metadata": {
      "needs_background": "light"
     },
     "output_type": "display_data"
    }
   ],
   "source": [
    "plt.subplots(1, 2)\n",
    "plt.subplot(1, 2, 1)\n",
    "train['Plot'].apply(word_count).plot(kind='hist');\n",
    "plt.yscale('log');\n",
    "plt.title('Train');\n",
    "plt.subplot(1, 2, 2)\n",
    "test['Plot'].apply(word_count).plot(kind='hist');\n",
    "plt.yscale('log');\n",
    "plt.title('Test');"
   ]
  },
  {
   "cell_type": "markdown",
   "metadata": {},
   "source": [
    "## Data Cleaning"
   ]
  },
  {
   "cell_type": "code",
   "execution_count": 6,
   "metadata": {},
   "outputs": [],
   "source": [
    "def clean_plot(text):\n",
    "    text = re.sub(\"\\'\", \"\", text) #Removing backslashes\n",
    "    text = re.sub(\"[^a-zA-Z]\",\" \",text) #Keeping english alphabets only\n",
    "    text = ' '.join(text.split()) #Striping extra white-spaces\n",
    "    text = text.lower() #Normalizing text\n",
    "    return text"
   ]
  },
  {
   "cell_type": "code",
   "execution_count": 7,
   "metadata": {},
   "outputs": [],
   "source": [
    "train['plot_cleaned'] = train.Plot.apply(lambda x: clean_plot(x))\n",
    "test['plot_cleaned'] = test.Plot.apply(lambda x: clean_plot(x))"
   ]
  },
  {
   "cell_type": "code",
   "execution_count": 8,
   "metadata": {},
   "outputs": [],
   "source": [
    "from nltk.corpus import stopwords\n",
    "stop_words = set(stopwords.words('english'))\n",
    "def remove_stopwords(text):\n",
    "    no_stopword_text = [w for w in text.split() if not w in stop_words]\n",
    "    return ' '.join(no_stopword_text)\n",
    "\n",
    "train['plot_cleaned'] = train['plot_cleaned'].apply(lambda x: remove_stopwords(x))\n",
    "test['plot_cleaned'] = test['plot_cleaned'].apply(lambda x: remove_stopwords(x))"
   ]
  },
  {
   "cell_type": "code",
   "execution_count": 9,
   "metadata": {},
   "outputs": [
    {
     "data": {
      "text/html": [
       "<div>\n",
       "<style scoped>\n",
       "    .dataframe tbody tr th:only-of-type {\n",
       "        vertical-align: middle;\n",
       "    }\n",
       "\n",
       "    .dataframe tbody tr th {\n",
       "        vertical-align: top;\n",
       "    }\n",
       "\n",
       "    .dataframe thead th {\n",
       "        text-align: right;\n",
       "    }\n",
       "</style>\n",
       "<table border=\"1\" class=\"dataframe\">\n",
       "  <thead>\n",
       "    <tr style=\"text-align: right;\">\n",
       "      <th></th>\n",
       "      <th>Release Year</th>\n",
       "      <th>Title</th>\n",
       "      <th>Origin/Ethnicity</th>\n",
       "      <th>Director</th>\n",
       "      <th>Cast</th>\n",
       "      <th>Genre</th>\n",
       "      <th>Wiki Page</th>\n",
       "      <th>Plot</th>\n",
       "      <th>plot_cleaned</th>\n",
       "    </tr>\n",
       "  </thead>\n",
       "  <tbody>\n",
       "    <tr>\n",
       "      <th>9659</th>\n",
       "      <td>1958</td>\n",
       "      <td>Return of the Fly</td>\n",
       "      <td>American</td>\n",
       "      <td>Edward Bernds</td>\n",
       "      <td>Vincent Price</td>\n",
       "      <td>horror</td>\n",
       "      <td>https://en.wikipedia.org/wiki/Return_of_the_Fly</td>\n",
       "      <td>Now an adult, Phillipe Delambre (Brett Halsey)...</td>\n",
       "      <td>adult phillipe delambre brett halsey determine...</td>\n",
       "    </tr>\n",
       "    <tr>\n",
       "      <th>6604</th>\n",
       "      <td>2008</td>\n",
       "      <td>One Missed Call</td>\n",
       "      <td>American</td>\n",
       "      <td>Eric Valette</td>\n",
       "      <td>Edward Burns, Shannyn Sossamon, Ana Claudia Ta...</td>\n",
       "      <td>horror</td>\n",
       "      <td>https://en.wikipedia.org/wiki/One_Missed_Call_...</td>\n",
       "      <td>The film begins with a young girl being rescue...</td>\n",
       "      <td>film begins young girl rescued burning hospita...</td>\n",
       "    </tr>\n",
       "    <tr>\n",
       "      <th>5085</th>\n",
       "      <td>1968</td>\n",
       "      <td>Live a Little, Love a Little</td>\n",
       "      <td>American</td>\n",
       "      <td>Norman Taurog</td>\n",
       "      <td>Elvis Presley, Michele Carey, Rudy Vallée</td>\n",
       "      <td>comedy</td>\n",
       "      <td>https://en.wikipedia.org/wiki/Live_a_Little,_L...</td>\n",
       "      <td>Greg Nolan (Elvis) is a newspaper photographer...</td>\n",
       "      <td>greg nolan elvis newspaper photographer lives ...</td>\n",
       "    </tr>\n",
       "  </tbody>\n",
       "</table>\n",
       "</div>"
      ],
      "text/plain": [
       "      Release Year                         Title Origin/Ethnicity  \\\n",
       "9659          1958             Return of the Fly         American   \n",
       "6604          2008               One Missed Call         American   \n",
       "5085          1968  Live a Little, Love a Little         American   \n",
       "\n",
       "           Director                                               Cast  \\\n",
       "9659  Edward Bernds                                      Vincent Price   \n",
       "6604   Eric Valette  Edward Burns, Shannyn Sossamon, Ana Claudia Ta...   \n",
       "5085  Norman Taurog          Elvis Presley, Michele Carey, Rudy Vallée   \n",
       "\n",
       "       Genre                                          Wiki Page  \\\n",
       "9659  horror    https://en.wikipedia.org/wiki/Return_of_the_Fly   \n",
       "6604  horror  https://en.wikipedia.org/wiki/One_Missed_Call_...   \n",
       "5085  comedy  https://en.wikipedia.org/wiki/Live_a_Little,_L...   \n",
       "\n",
       "                                                   Plot  \\\n",
       "9659  Now an adult, Phillipe Delambre (Brett Halsey)...   \n",
       "6604  The film begins with a young girl being rescue...   \n",
       "5085  Greg Nolan (Elvis) is a newspaper photographer...   \n",
       "\n",
       "                                           plot_cleaned  \n",
       "9659  adult phillipe delambre brett halsey determine...  \n",
       "6604  film begins young girl rescued burning hospita...  \n",
       "5085  greg nolan elvis newspaper photographer lives ...  "
      ]
     },
     "execution_count": 9,
     "metadata": {},
     "output_type": "execute_result"
    }
   ],
   "source": [
    "train.sample(3)"
   ]
  },
  {
   "cell_type": "code",
   "execution_count": 10,
   "metadata": {},
   "outputs": [
    {
     "data": {
      "text/html": [
       "<div>\n",
       "<style scoped>\n",
       "    .dataframe tbody tr th:only-of-type {\n",
       "        vertical-align: middle;\n",
       "    }\n",
       "\n",
       "    .dataframe tbody tr th {\n",
       "        vertical-align: top;\n",
       "    }\n",
       "\n",
       "    .dataframe thead th {\n",
       "        text-align: right;\n",
       "    }\n",
       "</style>\n",
       "<table border=\"1\" class=\"dataframe\">\n",
       "  <thead>\n",
       "    <tr style=\"text-align: right;\">\n",
       "      <th></th>\n",
       "      <th>Release Year</th>\n",
       "      <th>Title</th>\n",
       "      <th>Origin/Ethnicity</th>\n",
       "      <th>Director</th>\n",
       "      <th>Cast</th>\n",
       "      <th>Wiki Page</th>\n",
       "      <th>Plot</th>\n",
       "      <th>Id</th>\n",
       "      <th>plot_cleaned</th>\n",
       "    </tr>\n",
       "  </thead>\n",
       "  <tbody>\n",
       "    <tr>\n",
       "      <th>42</th>\n",
       "      <td>1987</td>\n",
       "      <td>Summer School</td>\n",
       "      <td>American</td>\n",
       "      <td>Carl Reiner</td>\n",
       "      <td>Mark Harmon, Kirstie Alley</td>\n",
       "      <td>https://en.wikipedia.org/wiki/Summer_School_(1...</td>\n",
       "      <td>On the last day of school before summer vacati...</td>\n",
       "      <td>42</td>\n",
       "      <td>last day school summer vacation physical educa...</td>\n",
       "    </tr>\n",
       "    <tr>\n",
       "      <th>166</th>\n",
       "      <td>2014</td>\n",
       "      <td>Android Cop</td>\n",
       "      <td>American</td>\n",
       "      <td>Mark Atkins</td>\n",
       "      <td>Michael Jai White\\r\\nKadeem Hardison\\r\\nRandy ...</td>\n",
       "      <td>https://en.wikipedia.org/wiki/Android_Cop</td>\n",
       "      <td>In the year 2098, Los Angeles Police Departmen...</td>\n",
       "      <td>166</td>\n",
       "      <td>year los angeles police department detective h...</td>\n",
       "    </tr>\n",
       "    <tr>\n",
       "      <th>513</th>\n",
       "      <td>1981</td>\n",
       "      <td>Dead &amp; Buried</td>\n",
       "      <td>American</td>\n",
       "      <td>Gary Sherman</td>\n",
       "      <td>Melody Anderson, Jack Albertson</td>\n",
       "      <td>https://en.wikipedia.org/wiki/Dead_%26_Buried</td>\n",
       "      <td>James Farentino stars as Dan Gillis, sheriff o...</td>\n",
       "      <td>513</td>\n",
       "      <td>james farentino stars dan gillis sheriff small...</td>\n",
       "    </tr>\n",
       "  </tbody>\n",
       "</table>\n",
       "</div>"
      ],
      "text/plain": [
       "     Release Year          Title Origin/Ethnicity      Director  \\\n",
       "42           1987  Summer School         American   Carl Reiner   \n",
       "166          2014    Android Cop         American   Mark Atkins   \n",
       "513          1981  Dead & Buried         American  Gary Sherman   \n",
       "\n",
       "                                                  Cast  \\\n",
       "42                          Mark Harmon, Kirstie Alley   \n",
       "166  Michael Jai White\\r\\nKadeem Hardison\\r\\nRandy ...   \n",
       "513                    Melody Anderson, Jack Albertson   \n",
       "\n",
       "                                             Wiki Page  \\\n",
       "42   https://en.wikipedia.org/wiki/Summer_School_(1...   \n",
       "166          https://en.wikipedia.org/wiki/Android_Cop   \n",
       "513      https://en.wikipedia.org/wiki/Dead_%26_Buried   \n",
       "\n",
       "                                                  Plot   Id  \\\n",
       "42   On the last day of school before summer vacati...   42   \n",
       "166  In the year 2098, Los Angeles Police Departmen...  166   \n",
       "513  James Farentino stars as Dan Gillis, sheriff o...  513   \n",
       "\n",
       "                                          plot_cleaned  \n",
       "42   last day school summer vacation physical educa...  \n",
       "166  year los angeles police department detective h...  \n",
       "513  james farentino stars dan gillis sheriff small...  "
      ]
     },
     "execution_count": 10,
     "metadata": {},
     "output_type": "execute_result"
    }
   ],
   "source": [
    "test.sample(3)"
   ]
  },
  {
   "cell_type": "code",
   "execution_count": 11,
   "metadata": {},
   "outputs": [],
   "source": [
    "from nltk.stem import *\n",
    "def stem_corpus(text):\n",
    "    stemmer = SnowballStemmer(\"english\")\n",
    "    return stemmer.stem(text)\n",
    "train['plot_cleaned'] = train['plot_cleaned'].apply(lambda x: stem_corpus(x))\n",
    "test['plot_cleaned'] = test['plot_cleaned'].apply(lambda x: stem_corpus(x))"
   ]
  },
  {
   "cell_type": "code",
   "execution_count": 12,
   "metadata": {},
   "outputs": [
    {
     "data": {
      "text/html": [
       "<div>\n",
       "<style scoped>\n",
       "    .dataframe tbody tr th:only-of-type {\n",
       "        vertical-align: middle;\n",
       "    }\n",
       "\n",
       "    .dataframe tbody tr th {\n",
       "        vertical-align: top;\n",
       "    }\n",
       "\n",
       "    .dataframe thead th {\n",
       "        text-align: right;\n",
       "    }\n",
       "</style>\n",
       "<table border=\"1\" class=\"dataframe\">\n",
       "  <thead>\n",
       "    <tr style=\"text-align: right;\">\n",
       "      <th></th>\n",
       "      <th>Release Year</th>\n",
       "      <th>Title</th>\n",
       "      <th>Origin/Ethnicity</th>\n",
       "      <th>Director</th>\n",
       "      <th>Cast</th>\n",
       "      <th>Wiki Page</th>\n",
       "      <th>Plot</th>\n",
       "      <th>Id</th>\n",
       "      <th>plot_cleaned</th>\n",
       "    </tr>\n",
       "  </thead>\n",
       "  <tbody>\n",
       "    <tr>\n",
       "      <th>2508</th>\n",
       "      <td>2011</td>\n",
       "      <td>The Tunnel</td>\n",
       "      <td>Australian</td>\n",
       "      <td>Carlo Ledesma</td>\n",
       "      <td>NaN</td>\n",
       "      <td>https://en.wikipedia.org/wiki/The_Tunnel_(2011...</td>\n",
       "      <td>In the midst of the drought and water shortage...</td>\n",
       "      <td>2508</td>\n",
       "      <td>midst drought water shortages new south wales ...</td>\n",
       "    </tr>\n",
       "    <tr>\n",
       "      <th>1437</th>\n",
       "      <td>1976</td>\n",
       "      <td>Dixie Dynamite</td>\n",
       "      <td>American</td>\n",
       "      <td>Lee Frost</td>\n",
       "      <td>Warren Oates, Christopher George</td>\n",
       "      <td>https://en.wikipedia.org/wiki/Dixie_Dynamite</td>\n",
       "      <td>A man who makes liquor illegally from a still ...</td>\n",
       "      <td>1437</td>\n",
       "      <td>man makes liquor illegally still cahoots sheri...</td>\n",
       "    </tr>\n",
       "    <tr>\n",
       "      <th>1116</th>\n",
       "      <td>1998</td>\n",
       "      <td>Zero Effect</td>\n",
       "      <td>American</td>\n",
       "      <td>Jake Kasdan</td>\n",
       "      <td>Bill Pullman, Ryan O'Neal, Ben Stiller</td>\n",
       "      <td>https://en.wikipedia.org/wiki/Zero_Effect</td>\n",
       "      <td>Daryl Zero is the world's greatest detective, ...</td>\n",
       "      <td>1116</td>\n",
       "      <td>daryl zero worlds greatest detective also soci...</td>\n",
       "    </tr>\n",
       "  </tbody>\n",
       "</table>\n",
       "</div>"
      ],
      "text/plain": [
       "      Release Year           Title Origin/Ethnicity       Director  \\\n",
       "2508          2011      The Tunnel       Australian  Carlo Ledesma   \n",
       "1437          1976  Dixie Dynamite         American      Lee Frost   \n",
       "1116          1998     Zero Effect         American    Jake Kasdan   \n",
       "\n",
       "                                        Cast  \\\n",
       "2508                                     NaN   \n",
       "1437        Warren Oates, Christopher George   \n",
       "1116  Bill Pullman, Ryan O'Neal, Ben Stiller   \n",
       "\n",
       "                                              Wiki Page  \\\n",
       "2508  https://en.wikipedia.org/wiki/The_Tunnel_(2011...   \n",
       "1437       https://en.wikipedia.org/wiki/Dixie_Dynamite   \n",
       "1116          https://en.wikipedia.org/wiki/Zero_Effect   \n",
       "\n",
       "                                                   Plot    Id  \\\n",
       "2508  In the midst of the drought and water shortage...  2508   \n",
       "1437  A man who makes liquor illegally from a still ...  1437   \n",
       "1116  Daryl Zero is the world's greatest detective, ...  1116   \n",
       "\n",
       "                                           plot_cleaned  \n",
       "2508  midst drought water shortages new south wales ...  \n",
       "1437  man makes liquor illegally still cahoots sheri...  \n",
       "1116  daryl zero worlds greatest detective also soci...  "
      ]
     },
     "execution_count": 12,
     "metadata": {},
     "output_type": "execute_result"
    }
   ],
   "source": [
    "test.sample(3)"
   ]
  },
  {
   "cell_type": "code",
   "execution_count": 13,
   "metadata": {},
   "outputs": [],
   "source": [
    "train_data=train['plot_cleaned']\n",
    "train_label=train['Genre']"
   ]
  },
  {
   "cell_type": "code",
   "execution_count": 14,
   "metadata": {},
   "outputs": [],
   "source": [
    "test_data=test['plot_cleaned']\n",
    "#test_label= pd.read_csv('sampleSubmission.csv')['Predicted']"
   ]
  },
  {
   "cell_type": "markdown",
   "metadata": {},
   "source": [
    "## Tf-Idf Vectorizer"
   ]
  },
  {
   "cell_type": "code",
   "execution_count": 15,
   "metadata": {},
   "outputs": [],
   "source": [
    "from sklearn.feature_extraction.text import TfidfVectorizer\n",
    "\n",
    "text_transformer = TfidfVectorizer(stop_words='english', \n",
    "                                   ngram_range=(1, 2), \n",
    "                                   lowercase=True, # default\n",
    "                                   max_features=150000) "
   ]
  },
  {
   "cell_type": "code",
   "execution_count": 16,
   "metadata": {},
   "outputs": [],
   "source": [
    "X_train_text = text_transformer.fit_transform(train_data)\n",
    "X_test_text = text_transformer.transform(test_data)"
   ]
  },
  {
   "cell_type": "code",
   "execution_count": 17,
   "metadata": {},
   "outputs": [
    {
     "data": {
      "text/plain": [
       "((13164, 150000), (3292, 150000))"
      ]
     },
     "execution_count": 17,
     "metadata": {},
     "output_type": "execute_result"
    }
   ],
   "source": [
    "X_train_text.shape, X_test_text.shape"
   ]
  },
  {
   "cell_type": "markdown",
   "metadata": {},
   "source": [
    "# Model Buiding"
   ]
  },
  {
   "cell_type": "markdown",
   "metadata": {},
   "source": [
    "## Logistic Regression"
   ]
  },
  {
   "cell_type": "code",
   "execution_count": 18,
   "metadata": {},
   "outputs": [
    {
     "name": "stdout",
     "output_type": "stream",
     "text": [
      "Fitting 5 folds for each of 24 candidates, totalling 120 fits\n"
     ]
    },
    {
     "name": "stderr",
     "output_type": "stream",
     "text": [
      "[Parallel(n_jobs=-1)]: Using backend LokyBackend with 8 concurrent workers.\n",
      "[Parallel(n_jobs=-1)]: Done   2 tasks      | elapsed:    8.3s\n",
      "[Parallel(n_jobs=-1)]: Done   9 tasks      | elapsed:    8.5s\n",
      "[Parallel(n_jobs=-1)]: Done  16 tasks      | elapsed:   24.8s\n",
      "[Parallel(n_jobs=-1)]: Done  25 tasks      | elapsed:   44.2s\n",
      "[Parallel(n_jobs=-1)]: Done  34 tasks      | elapsed:  1.9min\n",
      "[Parallel(n_jobs=-1)]: Done  45 tasks      | elapsed:  1.9min\n",
      "[Parallel(n_jobs=-1)]: Done  56 tasks      | elapsed:  3.4min\n",
      "[Parallel(n_jobs=-1)]: Done  69 tasks      | elapsed:  4.1min\n",
      "[Parallel(n_jobs=-1)]: Done  82 tasks      | elapsed:  4.5min\n",
      "[Parallel(n_jobs=-1)]: Done  97 tasks      | elapsed:  6.8min\n",
      "[Parallel(n_jobs=-1)]: Done 118 out of 120 | elapsed:  9.6min remaining:    9.7s\n",
      "[Parallel(n_jobs=-1)]: Done 120 out of 120 | elapsed:  9.7min finished\n"
     ]
    },
    {
     "name": "stdout",
     "output_type": "stream",
     "text": [
      "0.6137952709184458\n",
      "LogisticRegression(C=20, solver='liblinear')\n"
     ]
    }
   ],
   "source": [
    "parameters = {'C' : [1,20,50],\n",
    "              'solver' : ['liblinear', 'newton-cg'],\n",
    "              'multi_class': ['multinomial','auto'],\n",
    "              'penalty': ['l1','l2']\n",
    "             }\n",
    "grid = GridSearchCV(LogisticRegression(), \n",
    "                    parameters, \n",
    "                    cv = 5,\n",
    "                    n_jobs = -1,\n",
    "                    verbose = 10,\n",
    "                    scoring='f1_micro'\n",
    "                    )\n",
    "grid.fit(X_train_text, train['Genre'])\n",
    "print(grid.best_score_)\n",
    "print(grid.best_estimator_)"
   ]
  },
  {
   "cell_type": "code",
   "execution_count": 19,
   "metadata": {},
   "outputs": [],
   "source": [
    "test_preds = grid.predict(X_test_text)"
   ]
  },
  {
   "cell_type": "code",
   "execution_count": 20,
   "metadata": {},
   "outputs": [
    {
     "data": {
      "text/html": [
       "<div>\n",
       "<style scoped>\n",
       "    .dataframe tbody tr th:only-of-type {\n",
       "        vertical-align: middle;\n",
       "    }\n",
       "\n",
       "    .dataframe tbody tr th {\n",
       "        vertical-align: top;\n",
       "    }\n",
       "\n",
       "    .dataframe thead th {\n",
       "        text-align: right;\n",
       "    }\n",
       "</style>\n",
       "<table border=\"1\" class=\"dataframe\">\n",
       "  <thead>\n",
       "    <tr style=\"text-align: right;\">\n",
       "      <th></th>\n",
       "      <th>Genre</th>\n",
       "    </tr>\n",
       "  </thead>\n",
       "  <tbody>\n",
       "    <tr>\n",
       "      <th>0</th>\n",
       "      <td>comedy</td>\n",
       "    </tr>\n",
       "    <tr>\n",
       "      <th>1</th>\n",
       "      <td>horror</td>\n",
       "    </tr>\n",
       "    <tr>\n",
       "      <th>2</th>\n",
       "      <td>drama</td>\n",
       "    </tr>\n",
       "    <tr>\n",
       "      <th>3</th>\n",
       "      <td>horror</td>\n",
       "    </tr>\n",
       "    <tr>\n",
       "      <th>4</th>\n",
       "      <td>romance</td>\n",
       "    </tr>\n",
       "  </tbody>\n",
       "</table>\n",
       "</div>"
      ],
      "text/plain": [
       "     Genre\n",
       "0   comedy\n",
       "1   horror\n",
       "2    drama\n",
       "3   horror\n",
       "4  romance"
      ]
     },
     "execution_count": 20,
     "metadata": {},
     "output_type": "execute_result"
    }
   ],
   "source": [
    "pd.DataFrame(test_preds, columns=['Genre']).head()"
   ]
  },
  {
   "cell_type": "code",
   "execution_count": 21,
   "metadata": {},
   "outputs": [],
   "source": [
    "# test['Predicted'] = test_preds\n",
    "# test[['Id','Predicted']].to_csv('Logistic.csv', index=False)"
   ]
  },
  {
   "cell_type": "markdown",
   "metadata": {},
   "source": [
    "## SGDClassifier"
   ]
  },
  {
   "cell_type": "code",
   "execution_count": 22,
   "metadata": {},
   "outputs": [
    {
     "name": "stdout",
     "output_type": "stream",
     "text": [
      "Fitting 5 folds for each of 24 candidates, totalling 120 fits\n"
     ]
    },
    {
     "name": "stderr",
     "output_type": "stream",
     "text": [
      "[Parallel(n_jobs=-1)]: Using backend LokyBackend with 8 concurrent workers.\n",
      "[Parallel(n_jobs=-1)]: Done  19 tasks      | elapsed:    4.5s\n",
      "[Parallel(n_jobs=-1)]: Done 120 out of 120 | elapsed:   31.7s finished\n"
     ]
    },
    {
     "data": {
      "text/plain": [
       "GridSearchCV(cv=5, estimator=SGDClassifier(), n_jobs=-1,\n",
       "             param_grid={'alpha': [0.01, 0.001, 0.0001],\n",
       "                         'early_stopping': [True, False],\n",
       "                         'max_iter': [100, 1000],\n",
       "                         'random_state': ['None', 42]},\n",
       "             scoring='f1_micro', verbose=3)"
      ]
     },
     "execution_count": 22,
     "metadata": {},
     "output_type": "execute_result"
    }
   ],
   "source": [
    "# defining parameter range\n",
    "parameters = {'alpha': [ 0.01, 0.001, 0.0001],\n",
    "              'max_iter': [100,1000],\n",
    "              'random_state': ['None',42],\n",
    "              'early_stopping': [True,False]\n",
    "             } \n",
    "\n",
    "grid = GridSearchCV(SGDClassifier(), \n",
    "                    parameters, \n",
    "                    cv = 5,\n",
    "                    n_jobs = -1,\n",
    "                    verbose = 3,\n",
    "                    scoring='f1_micro')\n",
    "# fitting the model for grid search\n",
    "grid.fit(X_train_text, train['Genre'])\n",
    "# grid.fit(X_train, y_train)"
   ]
  },
  {
   "cell_type": "code",
   "execution_count": 23,
   "metadata": {
    "scrolled": true
   },
   "outputs": [
    {
     "name": "stdout",
     "output_type": "stream",
     "text": [
      "0.6162263623843731\n",
      "SGDClassifier(max_iter=100, random_state=42)\n"
     ]
    }
   ],
   "source": [
    "print(grid.best_score_)\n",
    "print(grid.best_estimator_)"
   ]
  },
  {
   "cell_type": "code",
   "execution_count": 24,
   "metadata": {},
   "outputs": [],
   "source": [
    "test_preds = grid.predict(X_test_text)"
   ]
  },
  {
   "cell_type": "code",
   "execution_count": 25,
   "metadata": {},
   "outputs": [
    {
     "data": {
      "text/html": [
       "<div>\n",
       "<style scoped>\n",
       "    .dataframe tbody tr th:only-of-type {\n",
       "        vertical-align: middle;\n",
       "    }\n",
       "\n",
       "    .dataframe tbody tr th {\n",
       "        vertical-align: top;\n",
       "    }\n",
       "\n",
       "    .dataframe thead th {\n",
       "        text-align: right;\n",
       "    }\n",
       "</style>\n",
       "<table border=\"1\" class=\"dataframe\">\n",
       "  <thead>\n",
       "    <tr style=\"text-align: right;\">\n",
       "      <th></th>\n",
       "      <th>Genre</th>\n",
       "    </tr>\n",
       "  </thead>\n",
       "  <tbody>\n",
       "    <tr>\n",
       "      <th>0</th>\n",
       "      <td>comedy</td>\n",
       "    </tr>\n",
       "    <tr>\n",
       "      <th>1</th>\n",
       "      <td>horror</td>\n",
       "    </tr>\n",
       "    <tr>\n",
       "      <th>2</th>\n",
       "      <td>drama</td>\n",
       "    </tr>\n",
       "    <tr>\n",
       "      <th>3</th>\n",
       "      <td>horror</td>\n",
       "    </tr>\n",
       "    <tr>\n",
       "      <th>4</th>\n",
       "      <td>comedy</td>\n",
       "    </tr>\n",
       "  </tbody>\n",
       "</table>\n",
       "</div>"
      ],
      "text/plain": [
       "    Genre\n",
       "0  comedy\n",
       "1  horror\n",
       "2   drama\n",
       "3  horror\n",
       "4  comedy"
      ]
     },
     "execution_count": 25,
     "metadata": {},
     "output_type": "execute_result"
    }
   ],
   "source": [
    "pd.DataFrame(test_preds, columns=['Genre']).head()"
   ]
  },
  {
   "cell_type": "code",
   "execution_count": 26,
   "metadata": {},
   "outputs": [],
   "source": [
    "test['Predicted'] = test_preds\n",
    "test[['Id','Predicted']].to_csv('SGDClassifier.csv', index=False)"
   ]
  }
 ],
 "metadata": {
  "kernelspec": {
   "display_name": "Python 3",
   "language": "python",
   "name": "python3"
  },
  "language_info": {
   "codemirror_mode": {
    "name": "ipython",
    "version": 3
   },
   "file_extension": ".py",
   "mimetype": "text/x-python",
   "name": "python",
   "nbconvert_exporter": "python",
   "pygments_lexer": "ipython3",
   "version": "3.8.5"
  },
  "toc": {
   "base_numbering": 1,
   "nav_menu": {},
   "number_sections": true,
   "sideBar": true,
   "skip_h1_title": false,
   "title_cell": "Table of Contents",
   "title_sidebar": "Contents",
   "toc_cell": false,
   "toc_position": {
    "height": "calc(100% - 180px)",
    "left": "10px",
    "top": "150px",
    "width": "165px"
   },
   "toc_section_display": true,
   "toc_window_display": true
  }
 },
 "nbformat": 4,
 "nbformat_minor": 4
}
